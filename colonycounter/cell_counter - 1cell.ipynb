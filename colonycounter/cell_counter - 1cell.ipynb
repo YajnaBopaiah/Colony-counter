{
 "cells": [
  {
   "cell_type": "code",
   "execution_count": null,
   "metadata": {},
   "outputs": [],
   "source": [
    "import numpy as np\n",
    "import seaborn as sns\n",
    "\n",
    "import warnings\n",
    "warnings.filterwarnings('ignore')\n",
    "\n",
    "import matplotlib.pyplot as plt\n",
    "%matplotlib inline\n",
    "import pandas as pd"
   ]
  },
  {
   "cell_type": "code",
   "execution_count": null,
   "metadata": {},
   "outputs": [],
   "source": [
    "%config InlineBackend.figure_format = 'retina'\n",
    "\n",
    "plt.rcParams['figure.figsize'] = (20,10)\n",
    "plt.rcParams[\"savefig.dpi\"] = 600"
   ]
  },
  {
   "cell_type": "code",
   "execution_count": null,
   "metadata": {},
   "outputs": [],
   "source": [
    "pip install git+https://github.com/morris-lab/Colony-counter.git"
   ]
  },
  {
   "cell_type": "code",
   "execution_count": null,
   "metadata": {},
   "outputs": [],
   "source": [
    "# import custom library\n",
    "from colonycounter import Counter"
   ]
  },
  {
   "cell_type": "code",
   "execution_count": null,
   "metadata": {},
   "outputs": [],
   "source": [
    "# PLATE - 1:\n",
    "path = r\"C:\\Users\\Yajna\\OneDrive - mresult.com\\Documents\\IMAGE PROCESSING\\PLATE 1 JPG\\C4_1MO.tif.jpg\"\n",
    "#path = r\"C:\\Users\\Yajna\\OneDrive - mresult.com\\Documents\\IMAGE PROCESSING\\PLATE 1 JPG\\C4_2D0.tif.jpg\"\n",
    "#path = r\"C:\\Users\\Yajna\\OneDrive - mresult.com\\Documents\\IMAGE PROCESSING\\PLATE 1 JPG\\C4_3D1.tif.jpg\"\n",
    "\n",
    "# PLATE - 2:\n",
    "#path = r\"C:\\Users\\Yajna\\OneDrive - mresult.com\\Documents\\IMAGE PROCESSING\\PLATE 2 JPG\\F11_1MO.tif.jpg\"\n",
    "#path = r\"C:\\Users\\Yajna\\OneDrive - mresult.com\\Documents\\IMAGE PROCESSING\\PLATE 2 JPG\\F11_2D0.tif.jpg\"\n",
    "#path = r\"C:\\Users\\Yajna\\OneDrive - mresult.com\\Documents\\IMAGE PROCESSING\\PLATE 2 JPG\\F11_3D1.tif.jpg\"\n",
    "#path = r\"C:\\Users\\Yajna\\OneDrive - mresult.com\\Documents\\IMAGE PROCESSING\\PLATE 2 JPG\\F11_4D2.tif.jpg\"\n",
    "#path = r\"C:\\Users\\Yajna\\OneDrive - mresult.com\\Documents\\IMAGE PROCESSING\\PLATE 2 JPG\\F11_5D7.tif.jpg\"\n",
    "#path = r\"C:\\Users\\Yajna\\OneDrive - mresult.com\\Documents\\IMAGE PROCESSING\\PLATE 2 JPG\\F11_6D14.tif.jpg\"\n",
    "\n",
    "counter = Counter(image_path=path)"
   ]
  },
  {
   "cell_type": "code",
   "execution_count": null,
   "metadata": {},
   "outputs": [],
   "source": [
    "# The method detects sample area in input image.Large, white and circle-like object in the input image will be \n",
    "# detected as sample area.\n",
    "\n",
    "counter.detect_area_by_canny(n_samples=None, radius=1500, n_peaks=1, verbose=True)"
   ]
  },
  {
   "cell_type": "code",
   "execution_count": null,
   "metadata": {},
   "outputs": [],
   "source": [
    "'''The function will crop sample area and make individual picture for each sample.\n",
    "        Sample area, which are supposed to be circle-like shape, will be selected.\n",
    "        Signal intensity in unselected area (outside the circle) will be converted into zero.\n",
    "        If you set shrinkage_ratio less than 1, the circle radius will be shrinked according to the ratio.\n",
    "        In general, undesired staining background signal might appear in the edge area,\n",
    "        decreasing quantification accuracy.\n",
    "        The shrinkage is useful to remove the edge are of cell culture dish from quantification.\n",
    "\n",
    "        Args:\n",
    "            shrinkage_ratio (float): shrinkage_ratio to crop image. This number should be between 0 and 1.'''\n",
    "\n",
    "counter.crop_samples(shrinkage_ratio = 0.98)\n",
    "\n",
    "# The function plots the cropped area.\n",
    "counter.plot_cropped_samples()"
   ]
  },
  {
   "cell_type": "code",
   "execution_count": null,
   "metadata": {},
   "outputs": [],
   "source": [
    "counter.subtract_background()"
   ]
  },
  {
   "cell_type": "code",
   "execution_count": null,
   "metadata": {},
   "outputs": [],
   "source": [
    "counter.adjust_contrast()"
   ]
  },
  {
   "cell_type": "code",
   "execution_count": null,
   "metadata": {},
   "outputs": [],
   "source": [
    "counter.detect_colonies(min_size=1, max_size=1.5, threshold=0.16, verbose=True)"
   ]
  },
  {
   "cell_type": "code",
   "execution_count": null,
   "metadata": {},
   "outputs": [],
   "source": [
    "counter.plot_detected_colonies(col_num=3, plot = 'raw')"
   ]
  },
  {
   "cell_type": "code",
   "execution_count": null,
   "metadata": {},
   "outputs": [],
   "source": []
  },
  {
   "cell_type": "code",
   "execution_count": null,
   "metadata": {},
   "outputs": [],
   "source": [
    "colony_count = counter.quantification_summary\n",
    "colony_count"
   ]
  },
  {
   "cell_type": "code",
   "execution_count": null,
   "metadata": {},
   "outputs": [],
   "source": []
  },
  {
   "cell_type": "code",
   "execution_count": null,
   "metadata": {},
   "outputs": [],
   "source": []
  },
  {
   "cell_type": "markdown",
   "metadata": {},
   "source": [
    "### ***Annotation:***"
   ]
  },
  {
   "cell_type": "code",
   "execution_count": null,
   "metadata": {},
   "outputs": [],
   "source": [
    "import main_class\n",
    "from .main_class import *"
   ]
  },
  {
   "cell_type": "code",
   "execution_count": null,
   "metadata": {},
   "outputs": [],
   "source": [
    "import os"
   ]
  },
  {
   "cell_type": "code",
   "execution_count": null,
   "metadata": {},
   "outputs": [],
   "source": [
    "os.getcwd()"
   ]
  },
  {
   "cell_type": "code",
   "execution_count": null,
   "metadata": {},
   "outputs": [],
   "source": [
    "! git clone https://github.com/YajnaBopaiah/Colony-counter.git"
   ]
  },
  {
   "cell_type": "code",
   "execution_count": null,
   "metadata": {},
   "outputs": [],
   "source": [
    "import subprocess\n",
    "\n",
    "# Run 'git add .' command\n",
    "subprocess.run(['git', 'add', '.'])\n",
    "\n",
    "# Run 'git commit -m \"Description of changes made\"' command\n",
    "subprocess.run(['git', 'commit', '-m', 'Description of changes made'])\n",
    "\n",
    "# Run 'git push' command\n",
    "subprocess.run(['git', 'push', 'https://github.com/YajnaBopaiah/Colony-counter.git'])\n"
   ]
  },
  {
   "cell_type": "code",
   "execution_count": null,
   "metadata": {},
   "outputs": [],
   "source": [
    "! git push https://github.com/YajnaBopaiah/Colony-counter.git"
   ]
  },
  {
   "cell_type": "code",
   "execution_count": null,
   "metadata": {},
   "outputs": [],
   "source": [
    "pip install git+https://github.com/YajnaBopaiah/Colony-counter.git"
   ]
  },
  {
   "cell_type": "code",
   "execution_count": null,
   "metadata": {},
   "outputs": [],
   "source": [
    "counter.detect_area_by_canny(n_samples=None, radius=1500, n_peaks=1, verbose=True)"
   ]
  },
  {
   "cell_type": "code",
   "execution_count": null,
   "metadata": {},
   "outputs": [],
   "source": [
    "counter.plot_detected_area()"
   ]
  },
  {
   "cell_type": "code",
   "execution_count": null,
   "metadata": {},
   "outputs": [],
   "source": [
    "'''The function will crop sample area and make individual picture for each sample.\n",
    "        Sample area, which are supposed to be circle-like shape, will be selected.\n",
    "        Signal intensity in unselected area (outside the circle) will be converted into zero.\n",
    "        If you set shrinkage_ratio less than 1, the circle radius will be shrinked according to the ratio.\n",
    "        In general, undesired staining background signal might appear in the edge area,\n",
    "        decreasing quantification accuracy.\n",
    "        The shrinkage is useful to remove the edge are of cell culture dish from quantification.\n",
    "\n",
    "        Args:\n",
    "            shrinkage_ratio (float): shrinkage_ratio to crop image. This number should be between 0 and 1.'''\n",
    "\n",
    "counter.crop_samples(shrinkage_ratio = 0.98)\n",
    "\n",
    "# The function plots the cropped area.\n",
    "counter.plot_cropped_samples()"
   ]
  },
  {
   "cell_type": "code",
   "execution_count": null,
   "metadata": {},
   "outputs": [],
   "source": [
    "counter.detect_colonies(min_size=1, max_size=1.5, threshold=0.13, verbose=True)"
   ]
  },
  {
   "cell_type": "code",
   "execution_count": null,
   "metadata": {},
   "outputs": [],
   "source": [
    "counter.plot_detected_colonies(col_num= 1)"
   ]
  }
 ],
 "metadata": {
  "kernelspec": {
   "display_name": "Python 3 (ipykernel)",
   "language": "python",
   "name": "python3"
  },
  "language_info": {
   "codemirror_mode": {
    "name": "ipython",
    "version": 3
   },
   "file_extension": ".py",
   "mimetype": "text/x-python",
   "name": "python",
   "nbconvert_exporter": "python",
   "pygments_lexer": "ipython3",
   "version": "3.11.4"
  }
 },
 "nbformat": 4,
 "nbformat_minor": 4
}
